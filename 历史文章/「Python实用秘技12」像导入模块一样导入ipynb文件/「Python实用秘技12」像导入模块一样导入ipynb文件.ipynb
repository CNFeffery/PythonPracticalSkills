{
 "cells": [
  {
   "cell_type": "code",
   "execution_count": 1,
   "id": "a1d5c978-30e7-4052-be0a-296b325b81ee",
   "metadata": {},
   "outputs": [],
   "source": [
    "# !pip install import-ipynb"
   ]
  },
  {
   "cell_type": "markdown",
   "id": "288eb894-78aa-471b-bf54-ef059bcad2cf",
   "metadata": {},
   "source": [
    "# 基于`import-ipynb`实现从`ipynb`文件中导入各种对象"
   ]
  },
  {
   "cell_type": "code",
   "execution_count": 2,
   "id": "f3fe8a08-9de8-4ab7-baf2-d2db13a51f64",
   "metadata": {},
   "outputs": [
    {
     "name": "stdout",
     "output_type": "stream",
     "text": [
      "importing Jupyter notebook from demo.ipynb\n"
     ]
    }
   ],
   "source": [
    "import import_ipynb # 必须首先执行import_ipynb的导入\n",
    "import demo"
   ]
  },
  {
   "cell_type": "code",
   "execution_count": 3,
   "id": "fe4dd9f6-76da-4d06-9a91-8a679f48f734",
   "metadata": {},
   "outputs": [
    {
     "name": "stdout",
     "output_type": "stream",
     "text": [
      "我是demo_func\n"
     ]
    }
   ],
   "source": [
    "demo.demo_func()"
   ]
  },
  {
   "cell_type": "code",
   "execution_count": 4,
   "id": "80bc2abe-40ce-4e14-95b2-362c082cd3f3",
   "metadata": {},
   "outputs": [
    {
     "name": "stdout",
     "output_type": "stream",
     "text": [
      "我是DemoClass\n"
     ]
    }
   ],
   "source": [
    "demo_class = demo.DemoClass()"
   ]
  },
  {
   "cell_type": "code",
   "execution_count": 5,
   "id": "91d984ba-ac79-43ea-ac97-d7c125f77da5",
   "metadata": {},
   "outputs": [],
   "source": [
    "from demo import *"
   ]
  },
  {
   "cell_type": "code",
   "execution_count": 6,
   "id": "d57a0861-67f1-4fcc-9744-48539e7dbde2",
   "metadata": {},
   "outputs": [
    {
     "name": "stdout",
     "output_type": "stream",
     "text": [
      "我是demo_func\n"
     ]
    }
   ],
   "source": [
    "demo_func()"
   ]
  },
  {
   "cell_type": "code",
   "execution_count": 7,
   "id": "d32cbfe3-5d81-410e-9223-001a0231777e",
   "metadata": {},
   "outputs": [
    {
     "name": "stdout",
     "output_type": "stream",
     "text": [
      "我是DemoClass\n"
     ]
    }
   ],
   "source": [
    "demo_class = DemoClass()"
   ]
  }
 ],
 "metadata": {
  "kernelspec": {
   "display_name": "Python 3 (ipykernel)",
   "language": "python",
   "name": "python3"
  },
  "language_info": {
   "codemirror_mode": {
    "name": "ipython",
    "version": 3
   },
   "file_extension": ".py",
   "mimetype": "text/x-python",
   "name": "python",
   "nbconvert_exporter": "python",
   "pygments_lexer": "ipython3",
   "version": "3.11.0"
  }
 },
 "nbformat": 4,
 "nbformat_minor": 5
}
