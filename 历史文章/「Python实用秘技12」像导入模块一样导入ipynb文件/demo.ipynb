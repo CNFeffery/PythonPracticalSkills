{
 "cells": [
  {
   "cell_type": "code",
   "execution_count": 1,
   "id": "04d8e4b2-3be7-460c-b92e-8b6d563e9a34",
   "metadata": {},
   "outputs": [],
   "source": [
    "def demo_func():\n",
    "    \n",
    "    print('我是demo_func')"
   ]
  },
  {
   "cell_type": "code",
   "execution_count": 2,
   "id": "a4335323-1ec7-41b8-84b6-147d177bea26",
   "metadata": {},
   "outputs": [],
   "source": [
    "class DemoClass:\n",
    "    \n",
    "    def __init__(self):\n",
    "        \n",
    "        print('我是DemoClass')"
   ]
  }
 ],
 "metadata": {
  "kernelspec": {
   "display_name": "Python 3 (ipykernel)",
   "language": "python",
   "name": "python3"
  },
  "language_info": {
   "codemirror_mode": {
    "name": "ipython",
    "version": 3
   },
   "file_extension": ".py",
   "mimetype": "text/x-python",
   "name": "python",
   "nbconvert_exporter": "python",
   "pygments_lexer": "ipython3",
   "version": "3.11.0"
  }
 },
 "nbformat": 4,
 "nbformat_minor": 5
}
