{
 "cells": [
  {
   "cell_type": "code",
   "execution_count": 1,
   "id": "c407f976-b0c8-4d1f-b38c-bc39ad62f0be",
   "metadata": {
    "tags": []
   },
   "outputs": [],
   "source": [
    "import os\n",
    "import shutil\n",
    "import zipfile\n",
    "import tempfile\n",
    "import numpy as np\n",
    "import pandas as pd"
   ]
  },
  {
   "cell_type": "markdown",
   "id": "38f45931-fbc5-43c6-84cb-b87ed9c4392b",
   "metadata": {},
   "source": [
    "- **创建临时文件**"
   ]
  },
  {
   "cell_type": "code",
   "execution_count": 2,
   "id": "2c27d0f7-266b-440e-8364-cd86fb25c906",
   "metadata": {
    "tags": []
   },
   "outputs": [
    {
     "name": "stdout",
     "output_type": "stream",
     "text": [
      "C:\\Users\\CNFEFF~1\\AppData\\Local\\Temp\\tmpow0_v_ok\n",
      "True\n",
      "False\n"
     ]
    }
   ],
   "source": [
    "with tempfile.TemporaryFile() as f:\n",
    "    print(f.name)\n",
    "    print(os.path.exists(f.name))\n",
    "\n",
    "print(os.path.exists(f.name))"
   ]
  },
  {
   "cell_type": "code",
   "execution_count": 3,
   "id": "60d131a9-386b-4f03-a368-8cc8114e093a",
   "metadata": {
    "tags": []
   },
   "outputs": [
    {
     "data": {
      "text/html": [
       "<div>\n",
       "<style scoped>\n",
       "    .dataframe tbody tr th:only-of-type {\n",
       "        vertical-align: middle;\n",
       "    }\n",
       "\n",
       "    .dataframe tbody tr th {\n",
       "        vertical-align: top;\n",
       "    }\n",
       "\n",
       "    .dataframe thead th {\n",
       "        text-align: right;\n",
       "    }\n",
       "</style>\n",
       "<table border=\"1\" class=\"dataframe\">\n",
       "  <thead>\n",
       "    <tr style=\"text-align: right;\">\n",
       "      <th></th>\n",
       "      <th>a</th>\n",
       "      <th>b</th>\n",
       "      <th>c</th>\n",
       "    </tr>\n",
       "  </thead>\n",
       "  <tbody>\n",
       "    <tr>\n",
       "      <th>0</th>\n",
       "      <td>1</td>\n",
       "      <td>1</td>\n",
       "      <td>1</td>\n",
       "    </tr>\n",
       "    <tr>\n",
       "      <th>1</th>\n",
       "      <td>2</td>\n",
       "      <td>2</td>\n",
       "      <td>2</td>\n",
       "    </tr>\n",
       "    <tr>\n",
       "      <th>2</th>\n",
       "      <td>3</td>\n",
       "      <td>3</td>\n",
       "      <td>3</td>\n",
       "    </tr>\n",
       "    <tr>\n",
       "      <th>3</th>\n",
       "      <td>4</td>\n",
       "      <td>4</td>\n",
       "      <td>4</td>\n",
       "    </tr>\n",
       "  </tbody>\n",
       "</table>\n",
       "</div>"
      ],
      "text/plain": [
       "   a  b  c\n",
       "0  1  1  1\n",
       "1  2  2  2\n",
       "2  3  3  3\n",
       "3  4  4  4"
      ]
     },
     "execution_count": 3,
     "metadata": {},
     "output_type": "execute_result"
    }
   ],
   "source": [
    "raw_string = '''a,b,c\n",
    "1,1,1\n",
    "2,2,2\n",
    "3,3,3\n",
    "4,4,4\n",
    "'''\n",
    "\n",
    "with tempfile.TemporaryFile('w+') as f:\n",
    "\n",
    "    f.write(raw_string)\n",
    "    f.seek(0) # 将指针移回文件开头\n",
    "    \n",
    "    demo_df = pd.read_csv(f)\n",
    "    \n",
    "demo_df"
   ]
  },
  {
   "cell_type": "markdown",
   "id": "1fd41810-dfb7-4eef-b046-d62c0825278d",
   "metadata": {},
   "source": [
    "- **创建临时目录**"
   ]
  },
  {
   "cell_type": "code",
   "execution_count": 4,
   "id": "b6655071-d009-46ae-a598-202bc3c5451e",
   "metadata": {
    "tags": []
   },
   "outputs": [
    {
     "name": "stdout",
     "output_type": "stream",
     "text": [
      "C:\\Users\\CNFEFF~1\\AppData\\Local\\Temp\\tmpos8yb86d\n",
      "True\n",
      "False\n"
     ]
    }
   ],
   "source": [
    "with tempfile.TemporaryDirectory() as p:\n",
    "    \n",
    "    print(p)\n",
    "    print(os.path.exists(p))\n",
    "    \n",
    "print(os.path.exists(p))"
   ]
  },
  {
   "cell_type": "code",
   "execution_count": 5,
   "id": "83af221c-46d2-4ad1-9482-4bddd9420cb0",
   "metadata": {
    "tags": []
   },
   "outputs": [
    {
     "data": {
      "text/plain": [
       "['demo1.csv',\n",
       " 'demo10.csv',\n",
       " 'demo100.csv',\n",
       " 'demo11.csv',\n",
       " 'demo12.csv',\n",
       " 'demo13.csv',\n",
       " 'demo14.csv',\n",
       " 'demo15.csv',\n",
       " 'demo16.csv',\n",
       " 'demo17.csv',\n",
       " 'demo18.csv',\n",
       " 'demo19.csv',\n",
       " 'demo2.csv',\n",
       " 'demo20.csv',\n",
       " 'demo21.csv',\n",
       " 'demo22.csv',\n",
       " 'demo23.csv',\n",
       " 'demo24.csv',\n",
       " 'demo25.csv',\n",
       " 'demo26.csv',\n",
       " 'demo27.csv',\n",
       " 'demo28.csv',\n",
       " 'demo29.csv',\n",
       " 'demo3.csv',\n",
       " 'demo30.csv',\n",
       " 'demo31.csv',\n",
       " 'demo32.csv',\n",
       " 'demo33.csv',\n",
       " 'demo34.csv',\n",
       " 'demo35.csv',\n",
       " 'demo36.csv',\n",
       " 'demo37.csv',\n",
       " 'demo38.csv',\n",
       " 'demo39.csv',\n",
       " 'demo4.csv',\n",
       " 'demo40.csv',\n",
       " 'demo41.csv',\n",
       " 'demo42.csv',\n",
       " 'demo43.csv',\n",
       " 'demo44.csv',\n",
       " 'demo45.csv',\n",
       " 'demo46.csv',\n",
       " 'demo47.csv',\n",
       " 'demo48.csv',\n",
       " 'demo49.csv',\n",
       " 'demo5.csv',\n",
       " 'demo50.csv',\n",
       " 'demo51.csv',\n",
       " 'demo52.csv',\n",
       " 'demo53.csv',\n",
       " 'demo54.csv',\n",
       " 'demo55.csv',\n",
       " 'demo56.csv',\n",
       " 'demo57.csv',\n",
       " 'demo58.csv',\n",
       " 'demo59.csv',\n",
       " 'demo6.csv',\n",
       " 'demo60.csv',\n",
       " 'demo61.csv',\n",
       " 'demo62.csv',\n",
       " 'demo63.csv',\n",
       " 'demo64.csv',\n",
       " 'demo65.csv',\n",
       " 'demo66.csv',\n",
       " 'demo67.csv',\n",
       " 'demo68.csv',\n",
       " 'demo69.csv',\n",
       " 'demo7.csv',\n",
       " 'demo70.csv',\n",
       " 'demo71.csv',\n",
       " 'demo72.csv',\n",
       " 'demo73.csv',\n",
       " 'demo74.csv',\n",
       " 'demo75.csv',\n",
       " 'demo76.csv',\n",
       " 'demo77.csv',\n",
       " 'demo78.csv',\n",
       " 'demo79.csv',\n",
       " 'demo8.csv',\n",
       " 'demo80.csv',\n",
       " 'demo81.csv',\n",
       " 'demo82.csv',\n",
       " 'demo83.csv',\n",
       " 'demo84.csv',\n",
       " 'demo85.csv',\n",
       " 'demo86.csv',\n",
       " 'demo87.csv',\n",
       " 'demo88.csv',\n",
       " 'demo89.csv',\n",
       " 'demo9.csv',\n",
       " 'demo90.csv',\n",
       " 'demo91.csv',\n",
       " 'demo92.csv',\n",
       " 'demo93.csv',\n",
       " 'demo94.csv',\n",
       " 'demo95.csv',\n",
       " 'demo96.csv',\n",
       " 'demo97.csv',\n",
       " 'demo98.csv',\n",
       " 'demo99.csv']"
      ]
     },
     "execution_count": 5,
     "metadata": {},
     "output_type": "execute_result"
    }
   ],
   "source": [
    "with tempfile.TemporaryDirectory() as p:\n",
    "    \n",
    "    # 模拟向当前临时目录下写出多个文件\n",
    "    for i in range(100):\n",
    "        (\n",
    "            pd\n",
    "            .DataFrame(np.random.rand(10, 3), columns=list('ABC'))\n",
    "            .to_csv(os.path.join(p, f'demo{i+1}.csv'), index=False)\n",
    "        )\n",
    "        \n",
    "    # 将当前临时目录转为zip压缩包\n",
    "    shutil.make_archive('./demo', 'zip', p)\n",
    "\n",
    "# 查看目标压缩文件内的文件\n",
    "[file.filename for file in zipfile.ZipFile('demo.zip').filelist]"
   ]
  }
 ],
 "metadata": {
  "kernelspec": {
   "display_name": "Python 3 (ipykernel)",
   "language": "python",
   "name": "python3"
  },
  "language_info": {
   "codemirror_mode": {
    "name": "ipython",
    "version": 3
   },
   "file_extension": ".py",
   "mimetype": "text/x-python",
   "name": "python",
   "nbconvert_exporter": "python",
   "pygments_lexer": "ipython3",
   "version": "3.11.0"
  }
 },
 "nbformat": 4,
 "nbformat_minor": 5
}
