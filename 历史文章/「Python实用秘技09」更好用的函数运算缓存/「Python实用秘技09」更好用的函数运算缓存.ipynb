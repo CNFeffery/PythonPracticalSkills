{
 "cells": [
  {
   "cell_type": "code",
   "execution_count": 1,
   "id": "418f25a1-393e-4a05-9dba-f6091985e78b",
   "metadata": {},
   "outputs": [
    {
     "name": "stdout",
     "output_type": "stream",
     "text": [
      "--------------------------------------------------\n",
      "第1次执行\n",
      "耗时2.17秒\n",
      "--------------------------------------------------\n",
      "第2次执行\n",
      "耗时0.0秒\n",
      "--------------------------------------------------\n",
      "第3次执行\n",
      "耗时0.0秒\n",
      "--------------------------------------------------\n",
      "第4次执行\n",
      "耗时0.0秒\n",
      "--------------------------------------------------\n",
      "第5次执行\n",
      "耗时0.0秒\n",
      "--------------------------------------------------\n",
      "第6次执行\n",
      "耗时2.01秒\n",
      "--------------------------------------------------\n",
      "第7次执行\n",
      "耗时0.0秒\n",
      "--------------------------------------------------\n",
      "第8次执行\n",
      "耗时0.0秒\n",
      "--------------------------------------------------\n",
      "第9次执行\n",
      "耗时0.0秒\n",
      "--------------------------------------------------\n",
      "第10次执行\n",
      "耗时0.0秒\n"
     ]
    }
   ],
   "source": [
    "import time\n",
    "from cachier import cachier\n",
    "from datetime import timedelta\n",
    "\n",
    "@cachier(stale_after=timedelta(seconds=10))\n",
    "def demo(x: int, y: int):\n",
    "    \n",
    "    time.sleep(2)\n",
    "    \n",
    "    return x * y\n",
    "\n",
    "for i in range(10):\n",
    "    print('-'*50)\n",
    "    print(f'第{i+1}次执行')\n",
    "    start = time.time()\n",
    "    demo(1, 1)\n",
    "    print(f'耗时{round(time.time() - start, 2)}秒')\n",
    "\n",
    "    time.sleep(2)"
   ]
  }
 ],
 "metadata": {
  "kernelspec": {
   "display_name": "Python 3 (ipykernel)",
   "language": "python",
   "name": "python3"
  },
  "language_info": {
   "codemirror_mode": {
    "name": "ipython",
    "version": 3
   },
   "file_extension": ".py",
   "mimetype": "text/x-python",
   "name": "python",
   "nbconvert_exporter": "python",
   "pygments_lexer": "ipython3",
   "version": "3.8.13"
  }
 },
 "nbformat": 4,
 "nbformat_minor": 5
}
