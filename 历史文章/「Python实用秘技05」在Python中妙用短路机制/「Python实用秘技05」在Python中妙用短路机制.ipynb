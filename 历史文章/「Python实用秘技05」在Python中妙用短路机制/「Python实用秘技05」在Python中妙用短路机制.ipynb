{
 "cells": [
  {
   "cell_type": "markdown",
   "id": "88571da6-7696-48ff-bebd-d4988752d880",
   "metadata": {},
   "source": [
    "- **X or Y**"
   ]
  },
  {
   "cell_type": "code",
   "execution_count": 1,
   "id": "693e98b6-1b75-42f5-b3b3-dee9afdab88f",
   "metadata": {},
   "outputs": [
    {
     "ename": "ZeroDivisionError",
     "evalue": "division by zero",
     "output_type": "error",
     "traceback": [
      "\u001b[1;31m---------------------------------------------------------------------------\u001b[0m",
      "\u001b[1;31mZeroDivisionError\u001b[0m                         Traceback (most recent call last)",
      "\u001b[1;32m~\\AppData\\Local\\Temp\\ipykernel_12268\\1455669704.py\u001b[0m in \u001b[0;36m<module>\u001b[1;34m\u001b[0m\n\u001b[1;32m----> 1\u001b[1;33m \u001b[1;36m1\u001b[0m \u001b[1;33m/\u001b[0m \u001b[1;36m0\u001b[0m\u001b[1;33m\u001b[0m\u001b[1;33m\u001b[0m\u001b[0m\n\u001b[0m",
      "\u001b[1;31mZeroDivisionError\u001b[0m: division by zero"
     ]
    }
   ],
   "source": [
    "1 / 0"
   ]
  },
  {
   "cell_type": "code",
   "execution_count": 2,
   "id": "8d23862c-2185-4e94-9af1-41356843a0f8",
   "metadata": {
    "tags": []
   },
   "outputs": [
    {
     "data": {
      "text/plain": [
       "True"
      ]
     },
     "execution_count": 2,
     "metadata": {},
     "output_type": "execute_result"
    }
   ],
   "source": [
    "1 > 0 or 1 / 0"
   ]
  },
  {
   "cell_type": "code",
   "execution_count": 3,
   "id": "ca23e6f2-1f1d-4578-b66f-0c60e5e39b9a",
   "metadata": {},
   "outputs": [
    {
     "data": {
      "text/plain": [
       "999"
      ]
     },
     "execution_count": 3,
     "metadata": {},
     "output_type": "execute_result"
    }
   ],
   "source": [
    "999 or 1 / 0"
   ]
  },
  {
   "cell_type": "code",
   "execution_count": 4,
   "id": "d836ce42-a5e9-4657-832d-dccaa48c0565",
   "metadata": {},
   "outputs": [
    {
     "data": {
      "text/plain": [
       "False"
      ]
     },
     "execution_count": 4,
     "metadata": {},
     "output_type": "execute_result"
    }
   ],
   "source": [
    "bool(0)"
   ]
  },
  {
   "cell_type": "code",
   "execution_count": 5,
   "id": "48d6f173-eae9-4f1c-a1a3-f371ed475b78",
   "metadata": {},
   "outputs": [
    {
     "data": {
      "text/plain": [
       "999"
      ]
     },
     "execution_count": 5,
     "metadata": {},
     "output_type": "execute_result"
    }
   ],
   "source": [
    "0 or 999"
   ]
  },
  {
   "cell_type": "markdown",
   "id": "d9abd18f-77b8-429c-ac47-3b0778e4d058",
   "metadata": {},
   "source": [
    "- **X and Y**"
   ]
  },
  {
   "cell_type": "code",
   "execution_count": 6,
   "id": "5eb5abad-742d-489f-bc33-108a73993fa5",
   "metadata": {},
   "outputs": [
    {
     "data": {
      "text/plain": [
       "False"
      ]
     },
     "execution_count": 6,
     "metadata": {},
     "output_type": "execute_result"
    }
   ],
   "source": [
    "bool([])"
   ]
  },
  {
   "cell_type": "code",
   "execution_count": 7,
   "id": "17e52d91-c9b0-4d2f-a04c-e4da67746042",
   "metadata": {},
   "outputs": [
    {
     "data": {
      "text/plain": [
       "[]"
      ]
     },
     "execution_count": 7,
     "metadata": {},
     "output_type": "execute_result"
    }
   ],
   "source": [
    "[] and print(1)"
   ]
  },
  {
   "cell_type": "markdown",
   "id": "63cd0eec-2052-446e-88a3-b483760e9cf8",
   "metadata": {},
   "source": [
    "- **any()**"
   ]
  },
  {
   "cell_type": "code",
   "execution_count": 8,
   "id": "05a3525a-3195-41dd-8581-ae04a5fa3b9d",
   "metadata": {},
   "outputs": [
    {
     "name": "stdout",
     "output_type": "stream",
     "text": [
      "0\n",
      "0\n",
      "1\n",
      "耗时：3.028966\n"
     ]
    }
   ],
   "source": [
    "import time\n",
    "\n",
    "def any_demo(i):\n",
    "    time.sleep(1)\n",
    "    print(i)\n",
    "    \n",
    "    return i\n",
    "\n",
    "start_time = time.time()\n",
    "any(any_demo(i) for i in [0, 0, 1, 2, 3, 4, 5])\n",
    "print('耗时：%f' % (time.time() - start_time))"
   ]
  },
  {
   "cell_type": "markdown",
   "id": "8e997b95-96b9-4c49-9eb8-9de43e4b7f0c",
   "metadata": {},
   "source": [
    "- **all()**"
   ]
  },
  {
   "cell_type": "code",
   "execution_count": 9,
   "id": "b6d48b56-7313-45cd-b2d8-a325d8667ae0",
   "metadata": {},
   "outputs": [
    {
     "name": "stdout",
     "output_type": "stream",
     "text": [
      "1\n",
      "2\n",
      "0\n",
      "耗时：3.018476\n"
     ]
    }
   ],
   "source": [
    "import time\n",
    "\n",
    "def any_demo(i):\n",
    "    time.sleep(1)\n",
    "    print(i)\n",
    "    \n",
    "    return i\n",
    "\n",
    "start_time = time.time()\n",
    "all(any_demo(i) for i in [1, 2, 0, 3, 4, 5])\n",
    "print('耗时：%f' % (time.time() - start_time))"
   ]
  },
  {
   "cell_type": "markdown",
   "id": "f74ec017-7d4d-4569-a0e3-6523ca83f836",
   "metadata": {},
   "source": [
    "- **比较运算符**"
   ]
  },
  {
   "cell_type": "code",
   "execution_count": 10,
   "id": "52aaa9e8-2d16-475a-9a90-dfbeec8f5fc1",
   "metadata": {},
   "outputs": [
    {
     "name": "stdout",
     "output_type": "stream",
     "text": [
      "0\n",
      "-1\n"
     ]
    },
    {
     "data": {
      "text/plain": [
       "False"
      ]
     },
     "execution_count": 10,
     "metadata": {},
     "output_type": "execute_result"
    }
   ],
   "source": [
    "any_demo(0) < any_demo(-1) < any_demo(-2) < any_demo(-3)"
   ]
  },
  {
   "cell_type": "code",
   "execution_count": 11,
   "id": "55daf81b-267e-414c-a714-771992062ff0",
   "metadata": {},
   "outputs": [
    {
     "name": "stdout",
     "output_type": "stream",
     "text": [
      "0\n",
      "-1\n"
     ]
    },
    {
     "data": {
      "text/plain": [
       "False"
      ]
     },
     "execution_count": 11,
     "metadata": {},
     "output_type": "execute_result"
    }
   ],
   "source": [
    "any_demo(0) == any_demo(-1) == any_demo(-2) == any_demo(-3)"
   ]
  },
  {
   "cell_type": "code",
   "execution_count": 12,
   "id": "414cb93d-45da-4500-bb01-cea05492e08d",
   "metadata": {},
   "outputs": [
    {
     "name": "stdout",
     "output_type": "stream",
     "text": [
      "-3\n",
      "-2\n"
     ]
    },
    {
     "data": {
      "text/plain": [
       "False"
      ]
     },
     "execution_count": 12,
     "metadata": {},
     "output_type": "execute_result"
    }
   ],
   "source": [
    "any_demo(-3) > any_demo(-2) > any_demo(-1) > any_demo(0)"
   ]
  },
  {
   "cell_type": "markdown",
   "id": "c120f8f8-fd07-4be4-98ba-e7470904ec5b",
   "metadata": {},
   "source": [
    "- **实际使用示例**"
   ]
  },
  {
   "cell_type": "code",
   "execution_count": 13,
   "id": "a350491d-2af0-45e7-86be-39116b1b8478",
   "metadata": {},
   "outputs": [],
   "source": [
    "def api1(id_):\n",
    "    \n",
    "    time.sleep(1)\n",
    "    \n",
    "    return id_ in ['admin1', 'admin2']\n",
    "\n",
    "def api2(id_):\n",
    "    \n",
    "    time.sleep(1)\n",
    "    \n",
    "    return id_ in ['admin1', 'admin2', 'su1', 'su2']\n",
    "\n",
    "def api3(id_):\n",
    "    \n",
    "    time.sleep(1)\n",
    "    \n",
    "    return id_ not in ['ban1', 'ban2', 'ban3']"
   ]
  },
  {
   "cell_type": "code",
   "execution_count": 14,
   "id": "07d3b919-9ea8-4b47-84c2-a00605d2944a",
   "metadata": {},
   "outputs": [
    {
     "name": "stdout",
     "output_type": "stream",
     "text": [
      "非超级权限\n",
      "耗时：1.001034\n"
     ]
    }
   ],
   "source": [
    "start_time = time.time()\n",
    "\n",
    "# 判断第一位用户的权限\n",
    "username1 = 'visitor1'\n",
    "if api1(username1) and api2(username1) and api3(username1):\n",
    "    print('超级权限')\n",
    "else:\n",
    "    print('非超级权限')\n",
    "print('耗时：%f' % (time.time() - start_time))"
   ]
  },
  {
   "cell_type": "code",
   "execution_count": 15,
   "id": "1de9508b-9c03-44ba-b03c-5f92b62e5ac2",
   "metadata": {},
   "outputs": [
    {
     "name": "stdout",
     "output_type": "stream",
     "text": [
      "超级权限\n",
      "耗时：3.024951\n"
     ]
    }
   ],
   "source": [
    "start_time = time.time()\n",
    "\n",
    "# 判断第二位用户的权限\n",
    "username2 = 'admin2'\n",
    "if api1(username2) and api2(username2) and api3(username2):\n",
    "    print('超级权限')\n",
    "else:\n",
    "    print('非超级权限')\n",
    "print('耗时：%f' % (time.time() - start_time))"
   ]
  }
 ],
 "metadata": {
  "kernelspec": {
   "display_name": "Python 3 (ipykernel)",
   "language": "python",
   "name": "python3"
  },
  "language_info": {
   "codemirror_mode": {
    "name": "ipython",
    "version": 3
   },
   "file_extension": ".py",
   "mimetype": "text/x-python",
   "name": "python",
   "nbconvert_exporter": "python",
   "pygments_lexer": "ipython3",
   "version": "3.7.11"
  }
 },
 "nbformat": 4,
 "nbformat_minor": 5
}
