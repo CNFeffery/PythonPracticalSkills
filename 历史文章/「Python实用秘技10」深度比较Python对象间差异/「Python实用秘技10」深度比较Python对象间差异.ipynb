{
 "cells": [
  {
   "cell_type": "code",
   "execution_count": 1,
   "id": "3bb7eb57-014e-4f30-8a69-c321faa69401",
   "metadata": {},
   "outputs": [
    {
     "data": {
      "text/plain": [
       "{'values_changed': {\"root['level1'][0]['level1-3'][0]['level1-3-1'][2]\": {'new_value': 1,\n",
       "   'old_value': 3},\n",
       "  \"root['level2']\": {'new_value': 'b', 'old_value': 'a'}}}"
      ]
     },
     "execution_count": 1,
     "metadata": {},
     "output_type": "execute_result"
    }
   ],
   "source": [
    "from deepdiff import DeepDiff\n",
    "\n",
    "obj1 = {\n",
    "    'level1': [\n",
    "        {\n",
    "            'level1-1': 1,\n",
    "            'level1-2': 1,\n",
    "            'level1-3': [\n",
    "                {\n",
    "                    'level1-3-1': [1, 2, 3]\n",
    "                }\n",
    "            ]\n",
    "        }\n",
    "    ],\n",
    "    'level2': 'a'\n",
    "}\n",
    "\n",
    "obj2 = {\n",
    "    'level1': [\n",
    "        {\n",
    "            'level1-1': 1,\n",
    "            'level1-2': 1,\n",
    "            'level1-3': [\n",
    "                {\n",
    "                    'level1-3-1': [1, 2, 1]\n",
    "                }\n",
    "            ]\n",
    "        }\n",
    "    ],\n",
    "    'level2': 'b'\n",
    "}\n",
    "\n",
    "DeepDiff(obj1, obj2)"
   ]
  },
  {
   "cell_type": "code",
   "execution_count": 2,
   "id": "e2159394-48af-40f3-bed3-5378c306838f",
   "metadata": {},
   "outputs": [
    {
     "data": {
      "text/plain": [
       "{}"
      ]
     },
     "execution_count": 2,
     "metadata": {},
     "output_type": "execute_result"
    }
   ],
   "source": [
    "from datetime import datetime, timedelta\n",
    "\n",
    "obj1 = {\n",
    "    'timestamp': datetime.strptime('2022-08-06', '%Y-%m-%d'),\n",
    "    'duration': timedelta(seconds=100)\n",
    "}\n",
    "\n",
    "obj2 = {\n",
    "    'timestamp': datetime.strptime('2022-08-05', '%Y-%m-%d'),\n",
    "    'duration': timedelta(seconds=99)\n",
    "}\n",
    "\n",
    "DeepDiff(obj1, obj2, exclude_types=[datetime, timedelta])"
   ]
  },
  {
   "cell_type": "code",
   "execution_count": 3,
   "id": "3fd9e900-d43d-490d-b70d-0a7f45b72475",
   "metadata": {},
   "outputs": [
    {
     "data": {
      "text/plain": [
       "{'values_changed': {\"root['level1']\": {'new_value': 1, 'old_value': 0}}}"
      ]
     },
     "execution_count": 3,
     "metadata": {},
     "output_type": "execute_result"
    }
   ],
   "source": [
    "obj1 = {\n",
    "    'level1': 0,\n",
    "    'level2': {\n",
    "        'level3': 998\n",
    "    }\n",
    "}\n",
    "\n",
    "obj2 = {\n",
    "    'level1': 1,\n",
    "    'level2': {\n",
    "        'level3': 999\n",
    "    }\n",
    "}\n",
    "\n",
    "DeepDiff(obj1, obj2, exclude_paths=[\"root['level2']['level3']\"])"
   ]
  },
  {
   "cell_type": "code",
   "execution_count": 4,
   "id": "38aff41c-ef07-4c6f-a6e5-267df78291f1",
   "metadata": {},
   "outputs": [
    {
     "data": {
      "text/plain": [
       "{'values_changed': {\"root['_nodex']\": {'new_value': 999, 'old_value': 998}}}"
      ]
     },
     "execution_count": 4,
     "metadata": {},
     "output_type": "execute_result"
    }
   ],
   "source": [
    "obj1 = {\n",
    "    'node1': 1,\n",
    "    'node2': 2,\n",
    "    'node3': 3,\n",
    "    '_nodex': 998\n",
    "}\n",
    "\n",
    "obj2 = {\n",
    "    'node1': 10,\n",
    "    'node2': 20,\n",
    "    'node3': 30,\n",
    "    '_nodex': 999\n",
    "}\n",
    "\n",
    "DeepDiff(obj1, obj2, exclude_regex_paths=[r\"root\\['node\\d'\\]\"])"
   ]
  },
  {
   "cell_type": "code",
   "execution_count": 5,
   "id": "3c2b4746-1556-43c2-9b80-1a4f4072d7b4",
   "metadata": {},
   "outputs": [
    {
     "data": {
      "text/plain": [
       "{}"
      ]
     },
     "execution_count": 5,
     "metadata": {},
     "output_type": "execute_result"
    }
   ],
   "source": [
    "obj1 = {\n",
    "    'level1': 0.998\n",
    "}\n",
    "\n",
    "obj2 = {\n",
    "    'level1': 0.999\n",
    "}\n",
    "\n",
    "DeepDiff(obj1, obj2, significant_digits=2)"
   ]
  }
 ],
 "metadata": {
  "kernelspec": {
   "display_name": "Python 3 (ipykernel)",
   "language": "python",
   "name": "python3"
  },
  "language_info": {
   "codemirror_mode": {
    "name": "ipython",
    "version": 3
   },
   "file_extension": ".py",
   "mimetype": "text/x-python",
   "name": "python",
   "nbconvert_exporter": "python",
   "pygments_lexer": "ipython3",
   "version": "3.8.13"
  }
 },
 "nbformat": 4,
 "nbformat_minor": 5
}
