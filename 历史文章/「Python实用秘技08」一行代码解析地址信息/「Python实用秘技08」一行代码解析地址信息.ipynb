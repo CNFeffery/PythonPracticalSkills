{
 "cells": [
  {
   "cell_type": "code",
   "execution_count": 1,
   "id": "9b63bf9b-5d1e-4265-994e-cf98bfec97fa",
   "metadata": {
    "execution": {
     "iopub.execute_input": "2022-05-05T11:33:19.582949Z",
     "iopub.status.busy": "2022-05-05T11:33:19.582949Z",
     "iopub.status.idle": "2022-05-05T11:33:20.295338Z",
     "shell.execute_reply": "2022-05-05T11:33:20.294339Z",
     "shell.execute_reply.started": "2022-05-05T11:33:19.582949Z"
    },
    "tags": []
   },
   "outputs": [
    {
     "name": "stdout",
     "output_type": "stream",
     "text": [
      "`jio.help()` is provided to search how to use jio functions.\n",
      "Or browse `https://github.com/dongrixinyu/JioNLP` to get help.\n"
     ]
    }
   ],
   "source": [
    "import jionlp as jio"
   ]
  },
  {
   "cell_type": "code",
   "execution_count": 2,
   "id": "6b156875-a0f6-448e-a964-e1f701129a44",
   "metadata": {
    "execution": {
     "iopub.execute_input": "2022-05-05T11:33:20.295338Z",
     "iopub.status.busy": "2022-05-05T11:33:20.295338Z",
     "iopub.status.idle": "2022-05-05T11:33:24.055846Z",
     "shell.execute_reply": "2022-05-05T11:33:24.054849Z",
     "shell.execute_reply.started": "2022-05-05T11:33:20.295338Z"
    },
    "tags": []
   },
   "outputs": [
    {
     "data": {
      "text/plain": [
       "{'province': '北京市',\n",
       " 'city': '北京市',\n",
       " 'county': '海淀区',\n",
       " 'detail': '万寿路街道翠微路社区居委会',\n",
       " 'full_location': '北京市海淀区万寿路街道翠微路社区居委会',\n",
       " 'orig_location': '北京市海淀区万寿路街道翠微路社区居委会'}"
      ]
     },
     "execution_count": 2,
     "metadata": {},
     "output_type": "execute_result"
    }
   ],
   "source": [
    "raw_address = '北京市海淀区万寿路街道翠微路社区居委会'\n",
    "jio.parse_location(raw_address)"
   ]
  },
  {
   "cell_type": "code",
   "execution_count": 3,
   "id": "953b1216-7d13-4861-9b0c-df4289d584a3",
   "metadata": {
    "execution": {
     "iopub.execute_input": "2022-05-05T11:33:24.056844Z",
     "iopub.status.busy": "2022-05-05T11:33:24.056844Z",
     "iopub.status.idle": "2022-05-05T11:33:24.071243Z",
     "shell.execute_reply": "2022-05-05T11:33:24.070246Z",
     "shell.execute_reply.started": "2022-05-05T11:33:24.056844Z"
    },
    "tags": []
   },
   "outputs": [
    {
     "data": {
      "text/plain": [
       "{'province': '北京市',\n",
       " 'city': '北京市',\n",
       " 'county': '海淀区',\n",
       " 'detail': '万寿路街道翠微路社区居委会',\n",
       " 'full_location': '北京市海淀区万寿路街道翠微路社区居委会',\n",
       " 'orig_location': '北京海淀万寿路街道翠微路社区居委会'}"
      ]
     },
     "execution_count": 3,
     "metadata": {},
     "output_type": "execute_result"
    }
   ],
   "source": [
    "raw_address = '北京海淀万寿路街道翠微路社区居委会'\n",
    "jio.parse_location(raw_address)"
   ]
  },
  {
   "cell_type": "code",
   "execution_count": 4,
   "id": "c3eab733-4fe0-4adf-b15e-06c315833eac",
   "metadata": {
    "execution": {
     "iopub.execute_input": "2022-05-05T11:33:24.074239Z",
     "iopub.status.busy": "2022-05-05T11:33:24.073240Z",
     "iopub.status.idle": "2022-05-05T11:33:29.283291Z",
     "shell.execute_reply": "2022-05-05T11:33:29.282284Z",
     "shell.execute_reply.started": "2022-05-05T11:33:24.073240Z"
    },
    "tags": []
   },
   "outputs": [
    {
     "data": {
      "text/plain": [
       "{'province': '北京市',\n",
       " 'city': '北京市',\n",
       " 'county': '海淀区',\n",
       " 'detail': '万寿路街道翠微路社区居委会',\n",
       " 'full_location': '北京市海淀区万寿路街道翠微路社区居委会',\n",
       " 'orig_location': '北京市海淀区万寿路街道翠微路社区居委会',\n",
       " 'town': '万寿路街道',\n",
       " 'village': '翠微路社区'}"
      ]
     },
     "execution_count": 4,
     "metadata": {},
     "output_type": "execute_result"
    }
   ],
   "source": [
    "raw_address = '北京市海淀区万寿路街道翠微路社区居委会'\n",
    "jio.parse_location(raw_address, town_village=True)"
   ]
  },
  {
   "cell_type": "code",
   "execution_count": 5,
   "id": "ff8d699e-05c6-40f2-99da-1ee9464dc234",
   "metadata": {
    "execution": {
     "iopub.execute_input": "2022-05-05T11:33:29.284287Z",
     "iopub.status.busy": "2022-05-05T11:33:29.284287Z",
     "iopub.status.idle": "2022-05-05T11:33:29.297254Z",
     "shell.execute_reply": "2022-05-05T11:33:29.297254Z",
     "shell.execute_reply.started": "2022-05-05T11:33:29.284287Z"
    },
    "tags": []
   },
   "outputs": [
    {
     "data": {
      "text/plain": [
       "{'province': '北京市',\n",
       " 'city': '北京市',\n",
       " 'county': '海淀区',\n",
       " 'detail': '万寿路街道翠微路社区居委会',\n",
       " 'full_location': '北京市海淀区万寿路街道翠微路社区居委会',\n",
       " 'orig_location': '海淀区万寿路街道翠微路社区居委会'}"
      ]
     },
     "execution_count": 5,
     "metadata": {},
     "output_type": "execute_result"
    }
   ],
   "source": [
    "raw_address = '海淀区万寿路街道翠微路社区居委会'\n",
    "jio.parse_location(raw_address)"
   ]
  }
 ],
 "metadata": {
  "kernelspec": {
   "display_name": "Python 3 (ipykernel)",
   "language": "python",
   "name": "python3"
  },
  "language_info": {
   "codemirror_mode": {
    "name": "ipython",
    "version": 3
   },
   "file_extension": ".py",
   "mimetype": "text/x-python",
   "name": "python",
   "nbconvert_exporter": "python",
   "pygments_lexer": "ipython3",
   "version": "3.8.12"
  }
 },
 "nbformat": 4,
 "nbformat_minor": 5
}
