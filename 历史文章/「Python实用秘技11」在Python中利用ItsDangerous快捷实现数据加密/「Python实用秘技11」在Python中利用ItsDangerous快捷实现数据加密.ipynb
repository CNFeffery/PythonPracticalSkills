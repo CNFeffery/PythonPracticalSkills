{
 "cells": [
  {
   "cell_type": "markdown",
   "id": "55103e82-c1c5-4854-b855-420ff5597cea",
   "metadata": {},
   "source": [
    "- **常规的数据加密/解密**"
   ]
  },
  {
   "cell_type": "code",
   "execution_count": 1,
   "id": "a3cc2ed8-61fa-43ef-ae08-58c90fe0fe3d",
   "metadata": {},
   "outputs": [],
   "source": [
    "from itsdangerous import URLSafeSerializer\n",
    "\n",
    "# 示例用密钥，正式使用请妥善存储密钥，请勿、体现在代码明文中\n",
    "SECRET_KEY = '968ce7c0-920c-45d8-ae3a-9eb76cb9a628'"
   ]
  },
  {
   "cell_type": "code",
   "execution_count": 2,
   "id": "caaf6403-47c5-46d0-8766-6fb95c7e9f0b",
   "metadata": {},
   "outputs": [],
   "source": [
    "# 基于密钥构建序列化器\n",
    "s = URLSafeSerializer(secret_key=SECRET_KEY)"
   ]
  },
  {
   "cell_type": "code",
   "execution_count": 3,
   "id": "75204523-327a-4dbc-aa3e-2f35dbe41572",
   "metadata": {},
   "outputs": [
    {
     "data": {
      "text/plain": [
       "'NDI.wck0XaLsshrl-v10xWQu6KwbOW8'"
      ]
     },
     "execution_count": 3,
     "metadata": {},
     "output_type": "execute_result"
    }
   ],
   "source": [
    "# 对常见的数据格式进行加密\n",
    "s.dumps(42)"
   ]
  },
  {
   "cell_type": "code",
   "execution_count": 4,
   "id": "227128a0-8b37-4637-a678-f84b04a12c92",
   "metadata": {},
   "outputs": [
    {
     "data": {
      "text/plain": [
       "'My4xNDE1OTI2NTM1ODk3OTM.cIFZyed8SwDq7SGK_92AlazhrnQ'"
      ]
     },
     "execution_count": 4,
     "metadata": {},
     "output_type": "execute_result"
    }
   ],
   "source": [
    "s.dumps(3.141592653589793)"
   ]
  },
  {
   "cell_type": "code",
   "execution_count": 5,
   "id": "38b5adad-a56c-49ef-a74b-e2eb297285a5",
   "metadata": {},
   "outputs": [
    {
     "data": {
      "text/plain": [
       "'Iua1i-ivlSI.wABdLOAmEft0bzhQh_j5M-dAECg'"
      ]
     },
     "execution_count": 5,
     "metadata": {},
     "output_type": "execute_result"
    }
   ],
   "source": [
    "s.dumps('测试')"
   ]
  },
  {
   "cell_type": "code",
   "execution_count": 6,
   "id": "1c5ef4df-139d-46fc-ab9c-ec0c743e5a87",
   "metadata": {},
   "outputs": [
    {
     "data": {
      "text/plain": [
       "'eyJ1c2VybmFtZSI6ImZlZmZlcnkiLCJnZW5kZXIiOiLnlLcifQ.xZjUy_yFgT4d1Kklc5pV6Wu-QZY'"
      ]
     },
     "execution_count": 6,
     "metadata": {},
     "output_type": "execute_result"
    }
   ],
   "source": [
    "s.dumps(\n",
    "    {\n",
    "        'username': 'feffery',\n",
    "        'gender': '男'\n",
    "    }\n",
    ")"
   ]
  },
  {
   "cell_type": "code",
   "execution_count": 7,
   "id": "3269f6c6-5a10-45fa-a56c-6c5aa17c43ca",
   "metadata": {},
   "outputs": [
    {
     "data": {
      "text/plain": [
       "'eyJ1c2VybmFtZSI6ImZlZmZlcnkiLCJnZW5kZXIiOiLnlLcifQ.xZjUy_yFgT4d1Kklc5pV6Wu-QZY'"
      ]
     },
     "execution_count": 7,
     "metadata": {},
     "output_type": "execute_result"
    }
   ],
   "source": [
    "demo_data = s.dumps(\n",
    "    {\n",
    "        'username': 'feffery',\n",
    "        'gender': '男'\n",
    "    }\n",
    ")\n",
    "demo_data"
   ]
  },
  {
   "cell_type": "code",
   "execution_count": 8,
   "id": "1ab82b39-88b7-4ceb-8b8d-69408d6e3dac",
   "metadata": {},
   "outputs": [
    {
     "data": {
      "text/plain": [
       "{'username': 'feffery', 'gender': '男'}"
      ]
     },
     "execution_count": 8,
     "metadata": {},
     "output_type": "execute_result"
    }
   ],
   "source": [
    "# 基于相同的密钥参数，对已加密的数据进行解密\n",
    "another_s = URLSafeSerializer(secret_key=SECRET_KEY)\n",
    "\n",
    "another_s.loads(demo_data)"
   ]
  },
  {
   "cell_type": "markdown",
   "id": "c1435340-7624-4c4d-ae2e-0383a12debaf",
   "metadata": {},
   "source": [
    "- **可超时失效的数据加密/解密**"
   ]
  },
  {
   "cell_type": "code",
   "execution_count": 9,
   "id": "afffb937-0a72-4903-bc0d-1e940c69d301",
   "metadata": {},
   "outputs": [],
   "source": [
    "import time\n",
    "from itsdangerous import URLSafeTimedSerializer\n",
    "\n",
    "# 基于密钥构建超时序列化器\n",
    "s_timed = URLSafeTimedSerializer(secret_key=SECRET_KEY)"
   ]
  },
  {
   "cell_type": "code",
   "execution_count": 10,
   "id": "b6b47e7f-0b22-41c6-878e-41b0f1777e4e",
   "metadata": {},
   "outputs": [
    {
     "name": "stdout",
     "output_type": "stream",
     "text": [
      "42\n",
      "42\n",
      "42\n",
      "错误：Signature age 4 > 3 seconds\n",
      "错误：Signature age 5 > 3 seconds\n"
     ]
    }
   ],
   "source": [
    "demo_data_timed = s_timed.dumps(42)\n",
    "\n",
    "for i in range(5):\n",
    "    time.sleep(1)\n",
    "    try:\n",
    "        print(s_timed.loads(demo_data_timed, max_age=3))\n",
    "    except Exception as e:\n",
    "        print(f'错误：{e}')"
   ]
  }
 ],
 "metadata": {
  "kernelspec": {
   "display_name": "Python 3 (ipykernel)",
   "language": "python",
   "name": "python3"
  },
  "language_info": {
   "codemirror_mode": {
    "name": "ipython",
    "version": 3
   },
   "file_extension": ".py",
   "mimetype": "text/x-python",
   "name": "python",
   "nbconvert_exporter": "python",
   "pygments_lexer": "ipython3",
   "version": "3.11.0"
  }
 },
 "nbformat": 4,
 "nbformat_minor": 5
}
