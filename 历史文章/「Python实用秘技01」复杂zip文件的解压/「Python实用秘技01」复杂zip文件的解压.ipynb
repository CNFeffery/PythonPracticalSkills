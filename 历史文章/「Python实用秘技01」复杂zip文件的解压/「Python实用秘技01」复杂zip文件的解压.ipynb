{
 "cells": [
  {
   "cell_type": "code",
   "execution_count": 1,
   "id": "3c43f80c-c33a-4a87-a7f6-1b39c0f6e95a",
   "metadata": {},
   "outputs": [
    {
     "data": {
      "text/plain": [
       "['Python.svg.png',\n",
       " '▓π╝╢1/',\n",
       " '▓π╝╢1/▓π╝╢1-1/',\n",
       " '▓π╝╢1/▓π╝╢1-1/test.txt',\n",
       " '▓π╝╢1/▓π╝╢1-2/',\n",
       " '▓π╝╢1/▓π╝╢1-2/test.txt',\n",
       " '▓π╝╢1/▓π╝╢1-2/▓π╝╢1-2-1/',\n",
       " '▓π╝╢1/▓π╝╢1-2/▓π╝╢1-2-1/test.txt',\n",
       " '▓π╝╢2/',\n",
       " '▓π╝╢2/Python.svg.png',\n",
       " '▓π╝╢3/',\n",
       " '▓π╝╢3/Python.svg.png',\n",
       " '▓π╝╢3/▓π╝╢3-1/',\n",
       " '▓π╝╢3/▓π╝╢3-1/Python.svg.png']"
      ]
     },
     "execution_count": 1,
     "metadata": {},
     "output_type": "execute_result"
    }
   ],
   "source": [
    "import os\n",
    "import shutil\n",
    "from zipfile import ZipFile\n",
    "from tqdm import tqdm\n",
    "\n",
    "# 读入压缩包文件\n",
    "file = ZipFile('示例压缩包.zip')\n",
    "\n",
    "# 查看压缩包内目录、文件名称\n",
    "file.namelist()"
   ]
  },
  {
   "cell_type": "code",
   "execution_count": 2,
   "id": "f62002df-e159-4aba-9347-e3fad864dd06",
   "metadata": {},
   "outputs": [
    {
     "name": "stdout",
     "output_type": "stream",
     "text": [
      "Python.svg.png  ------->  Python.svg.png\n",
      "▓π╝╢1/  ------->  层级1/\n",
      "▓π╝╢1/▓π╝╢1-1/  ------->  层级1/层级1-1/\n",
      "▓π╝╢1/▓π╝╢1-1/test.txt  ------->  层级1/层级1-1/test.txt\n",
      "▓π╝╢1/▓π╝╢1-2/  ------->  层级1/层级1-2/\n",
      "▓π╝╢1/▓π╝╢1-2/test.txt  ------->  层级1/层级1-2/test.txt\n",
      "▓π╝╢1/▓π╝╢1-2/▓π╝╢1-2-1/  ------->  层级1/层级1-2/层级1-2-1/\n",
      "▓π╝╢1/▓π╝╢1-2/▓π╝╢1-2-1/test.txt  ------->  层级1/层级1-2/层级1-2-1/test.txt\n",
      "▓π╝╢2/  ------->  层级2/\n",
      "▓π╝╢2/Python.svg.png  ------->  层级2/Python.svg.png\n",
      "▓π╝╢3/  ------->  层级3/\n",
      "▓π╝╢3/Python.svg.png  ------->  层级3/Python.svg.png\n",
      "▓π╝╢3/▓π╝╢3-1/  ------->  层级3/层级3-1/\n",
      "▓π╝╢3/▓π╝╢3-1/Python.svg.png  ------->  层级3/层级3-1/Python.svg.png\n"
     ]
    }
   ],
   "source": [
    "def recode(raw: str) -> str:\n",
    "    '''\n",
    "    编码修正\n",
    "    '''\n",
    "    \n",
    "    try:\n",
    "        return raw.encode('cp437').decode('gbk')\n",
    "    \n",
    "    except:\n",
    "        return raw.encode('utf-8').decode('utf-8')\n",
    "    \n",
    "for file_or_path in file.namelist():\n",
    "    \n",
    "    print(file_or_path, ' -------> ' , recode(file_or_path))"
   ]
  },
  {
   "cell_type": "code",
   "execution_count": 3,
   "id": "75cc87ed-b835-45b2-8561-c2a4a6d115a3",
   "metadata": {},
   "outputs": [],
   "source": [
    "def zip_extract_all(src_zip_file: ZipFile, target_path: str) -> None:\n",
    "    \n",
    "    # 遍历压缩包内所有内容\n",
    "    for file_or_path in file.namelist():\n",
    "        \n",
    "        # 若当前节点是文件夹\n",
    "        if file_or_path.endswith('/'):\n",
    "            try:\n",
    "                # 基于当前文件夹节点创建多层文件夹\n",
    "                os.makedirs(os.path.join(target_path, recode(file_or_path)))\n",
    "            except FileExistsError:\n",
    "                # 若已存在则跳过创建过程\n",
    "                pass\n",
    "        \n",
    "        # 否则视作文件进行写出\n",
    "        else:\n",
    "            # 利用shutil.copyfileobj，从压缩包io流中提取目标文件内容写出到目标路径\n",
    "            with open(os.path.join(target_path, recode(file_or_path)), 'wb') as z:\n",
    "                # 这里基于Zipfile.open()提取文件内容时需要使用原始的乱码文件名\n",
    "                shutil.copyfileobj(src_zip_file.open(file_or_path), z)\n",
    "            \n",
    "# 向已存在的指定文件夹完整解压当前读入的zip文件\n",
    "zip_extract_all(file, '解压测试')"
   ]
  }
 ],
 "metadata": {
  "kernelspec": {
   "display_name": "Python 3 (ipykernel)",
   "language": "python",
   "name": "python3"
  },
  "language_info": {
   "codemirror_mode": {
    "name": "ipython",
    "version": 3
   },
   "file_extension": ".py",
   "mimetype": "text/x-python",
   "name": "python",
   "nbconvert_exporter": "python",
   "pygments_lexer": "ipython3",
   "version": "3.7.11"
  }
 },
 "nbformat": 4,
 "nbformat_minor": 5
}
