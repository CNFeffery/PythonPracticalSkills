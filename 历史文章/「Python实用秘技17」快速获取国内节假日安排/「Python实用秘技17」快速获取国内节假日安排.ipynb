{
 "cells": [
  {
   "cell_type": "code",
   "execution_count": 1,
   "id": "a26b0fbd-cf3f-4986-b037-dc6cd214cce1",
   "metadata": {
    "execution": {
     "iopub.execute_input": "2024-05-22T02:05:48.724101Z",
     "iopub.status.busy": "2024-05-22T02:05:48.724101Z",
     "iopub.status.idle": "2024-05-22T02:05:50.257371Z",
     "shell.execute_reply": "2024-05-22T02:05:50.256860Z",
     "shell.execute_reply.started": "2024-05-22T02:05:48.724101Z"
    }
   },
   "outputs": [],
   "source": [
    "import requests\n",
    "\n",
    "# 查询目标网址，基于开源项目：https://github.com/NateScarlet/holiday-cn\n",
    "target_url = 'https://fastly.jsdelivr.net/gh/NateScarlet/holiday-cn@master/{}.json'\n",
    "\n",
    "# 请求目标年份数据\n",
    "response = requests.get(target_url.format(2024), timeout=10)"
   ]
  },
  {
   "cell_type": "code",
   "execution_count": 2,
   "id": "41117722-9e66-44c8-8f07-5bf21a725afb",
   "metadata": {
    "execution": {
     "iopub.execute_input": "2024-05-22T02:05:50.259480Z",
     "iopub.status.busy": "2024-05-22T02:05:50.259480Z",
     "iopub.status.idle": "2024-05-22T02:05:50.289987Z",
     "shell.execute_reply": "2024-05-22T02:05:50.287856Z",
     "shell.execute_reply.started": "2024-05-22T02:05:50.259480Z"
    }
   },
   "outputs": [
    {
     "data": {
      "text/plain": [
       "{'$schema': 'https://raw.githubusercontent.com/NateScarlet/holiday-cn/master/schema.json',\n",
       " '$id': 'https://raw.githubusercontent.com/NateScarlet/holiday-cn/master/2024.json',\n",
       " 'year': 2024,\n",
       " 'papers': ['https://www.gov.cn/zhengce/zhengceku/202310/content_6911528.htm'],\n",
       " 'days': [{'name': '元旦', 'date': '2024-01-01', 'isOffDay': True},\n",
       "  {'name': '春节', 'date': '2024-02-04', 'isOffDay': False},\n",
       "  {'name': '春节', 'date': '2024-02-10', 'isOffDay': True},\n",
       "  {'name': '春节', 'date': '2024-02-11', 'isOffDay': True},\n",
       "  {'name': '春节', 'date': '2024-02-12', 'isOffDay': True},\n",
       "  {'name': '春节', 'date': '2024-02-13', 'isOffDay': True},\n",
       "  {'name': '春节', 'date': '2024-02-14', 'isOffDay': True},\n",
       "  {'name': '春节', 'date': '2024-02-15', 'isOffDay': True},\n",
       "  {'name': '春节', 'date': '2024-02-16', 'isOffDay': True},\n",
       "  {'name': '春节', 'date': '2024-02-17', 'isOffDay': True},\n",
       "  {'name': '春节', 'date': '2024-02-18', 'isOffDay': False},\n",
       "  {'name': '清明节', 'date': '2024-04-04', 'isOffDay': True},\n",
       "  {'name': '清明节', 'date': '2024-04-05', 'isOffDay': True},\n",
       "  {'name': '清明节', 'date': '2024-04-06', 'isOffDay': True},\n",
       "  {'name': '清明节', 'date': '2024-04-07', 'isOffDay': False},\n",
       "  {'name': '劳动节', 'date': '2024-04-28', 'isOffDay': False},\n",
       "  {'name': '劳动节', 'date': '2024-05-01', 'isOffDay': True},\n",
       "  {'name': '劳动节', 'date': '2024-05-02', 'isOffDay': True},\n",
       "  {'name': '劳动节', 'date': '2024-05-03', 'isOffDay': True},\n",
       "  {'name': '劳动节', 'date': '2024-05-04', 'isOffDay': True},\n",
       "  {'name': '劳动节', 'date': '2024-05-05', 'isOffDay': True},\n",
       "  {'name': '劳动节', 'date': '2024-05-11', 'isOffDay': False},\n",
       "  {'name': '端午节', 'date': '2024-06-10', 'isOffDay': True},\n",
       "  {'name': '中秋节', 'date': '2024-09-14', 'isOffDay': False},\n",
       "  {'name': '中秋节', 'date': '2024-09-15', 'isOffDay': True},\n",
       "  {'name': '中秋节', 'date': '2024-09-16', 'isOffDay': True},\n",
       "  {'name': '中秋节', 'date': '2024-09-17', 'isOffDay': True},\n",
       "  {'name': '国庆节', 'date': '2024-09-29', 'isOffDay': False},\n",
       "  {'name': '国庆节', 'date': '2024-10-01', 'isOffDay': True},\n",
       "  {'name': '国庆节', 'date': '2024-10-02', 'isOffDay': True},\n",
       "  {'name': '国庆节', 'date': '2024-10-03', 'isOffDay': True},\n",
       "  {'name': '国庆节', 'date': '2024-10-04', 'isOffDay': True},\n",
       "  {'name': '国庆节', 'date': '2024-10-05', 'isOffDay': True},\n",
       "  {'name': '国庆节', 'date': '2024-10-06', 'isOffDay': True},\n",
       "  {'name': '国庆节', 'date': '2024-10-07', 'isOffDay': True},\n",
       "  {'name': '国庆节', 'date': '2024-10-12', 'isOffDay': False}]}"
      ]
     },
     "execution_count": 2,
     "metadata": {},
     "output_type": "execute_result"
    }
   ],
   "source": [
    "response.json()"
   ]
  },
  {
   "cell_type": "markdown",
   "id": "c13700c0-b0b7-4905-8c16-a2735ba98089",
   "metadata": {},
   "source": [
    "### 判断某个日期是否为法定节假休息日"
   ]
  },
  {
   "cell_type": "code",
   "execution_count": 3,
   "id": "78dd272d-4510-46b4-99c0-ed3356e8f46d",
   "metadata": {
    "execution": {
     "iopub.execute_input": "2024-05-22T02:05:50.293293Z",
     "iopub.status.busy": "2024-05-22T02:05:50.292292Z",
     "iopub.status.idle": "2024-05-22T02:05:50.817658Z",
     "shell.execute_reply": "2024-05-22T02:05:50.817152Z",
     "shell.execute_reply.started": "2024-05-22T02:05:50.293293Z"
    }
   },
   "outputs": [
    {
     "data": {
      "text/html": [
       "<div>\n",
       "<style scoped>\n",
       "    .dataframe tbody tr th:only-of-type {\n",
       "        vertical-align: middle;\n",
       "    }\n",
       "\n",
       "    .dataframe tbody tr th {\n",
       "        vertical-align: top;\n",
       "    }\n",
       "\n",
       "    .dataframe thead th {\n",
       "        text-align: right;\n",
       "    }\n",
       "</style>\n",
       "<table border=\"1\" class=\"dataframe\">\n",
       "  <thead>\n",
       "    <tr style=\"text-align: right;\">\n",
       "      <th></th>\n",
       "      <th>name</th>\n",
       "      <th>date</th>\n",
       "      <th>isOffDay</th>\n",
       "    </tr>\n",
       "  </thead>\n",
       "  <tbody>\n",
       "    <tr>\n",
       "      <th>0</th>\n",
       "      <td>元旦</td>\n",
       "      <td>2024-01-01</td>\n",
       "      <td>True</td>\n",
       "    </tr>\n",
       "  </tbody>\n",
       "</table>\n",
       "</div>"
      ],
      "text/plain": [
       "  name        date  isOffDay\n",
       "0   元旦  2024-01-01      True"
      ]
     },
     "execution_count": 3,
     "metadata": {},
     "output_type": "execute_result"
    }
   ],
   "source": [
    "import pandas as pd\n",
    "\n",
    "holidays_df = pd.DataFrame(response.json()['days'])\n",
    "holidays_df.head(1)"
   ]
  },
  {
   "cell_type": "code",
   "execution_count": 4,
   "id": "5b75b67b-7f38-4cb6-8eda-7ccce92e7d7b",
   "metadata": {
    "execution": {
     "iopub.execute_input": "2024-05-22T02:05:50.820670Z",
     "iopub.status.busy": "2024-05-22T02:05:50.819667Z",
     "iopub.status.idle": "2024-05-22T02:05:50.850344Z",
     "shell.execute_reply": "2024-05-22T02:05:50.849217Z",
     "shell.execute_reply.started": "2024-05-22T02:05:50.820670Z"
    }
   },
   "outputs": [
    {
     "data": {
      "text/html": [
       "<div>\n",
       "<style scoped>\n",
       "    .dataframe tbody tr th:only-of-type {\n",
       "        vertical-align: middle;\n",
       "    }\n",
       "\n",
       "    .dataframe tbody tr th {\n",
       "        vertical-align: top;\n",
       "    }\n",
       "\n",
       "    .dataframe thead th {\n",
       "        text-align: right;\n",
       "    }\n",
       "</style>\n",
       "<table border=\"1\" class=\"dataframe\">\n",
       "  <thead>\n",
       "    <tr style=\"text-align: right;\">\n",
       "      <th></th>\n",
       "      <th>name</th>\n",
       "      <th>date</th>\n",
       "      <th>isOffDay</th>\n",
       "    </tr>\n",
       "  </thead>\n",
       "  <tbody>\n",
       "    <tr>\n",
       "      <th>16</th>\n",
       "      <td>劳动节</td>\n",
       "      <td>2024-05-01</td>\n",
       "      <td>True</td>\n",
       "    </tr>\n",
       "  </tbody>\n",
       "</table>\n",
       "</div>"
      ],
      "text/plain": [
       "   name        date  isOffDay\n",
       "16  劳动节  2024-05-01      True"
      ]
     },
     "execution_count": 4,
     "metadata": {},
     "output_type": "execute_result"
    }
   ],
   "source": [
    "holidays_df.query('date == \"%s\" and isOffDay' % '2024-05-01')"
   ]
  },
  {
   "cell_type": "code",
   "execution_count": 5,
   "id": "01e9cbb4-e759-485b-a165-aaf131002e61",
   "metadata": {
    "execution": {
     "iopub.execute_input": "2024-05-22T02:05:50.852655Z",
     "iopub.status.busy": "2024-05-22T02:05:50.851573Z",
     "iopub.status.idle": "2024-05-22T02:05:50.865923Z",
     "shell.execute_reply": "2024-05-22T02:05:50.864919Z",
     "shell.execute_reply.started": "2024-05-22T02:05:50.852655Z"
    }
   },
   "outputs": [
    {
     "data": {
      "text/html": [
       "<div>\n",
       "<style scoped>\n",
       "    .dataframe tbody tr th:only-of-type {\n",
       "        vertical-align: middle;\n",
       "    }\n",
       "\n",
       "    .dataframe tbody tr th {\n",
       "        vertical-align: top;\n",
       "    }\n",
       "\n",
       "    .dataframe thead th {\n",
       "        text-align: right;\n",
       "    }\n",
       "</style>\n",
       "<table border=\"1\" class=\"dataframe\">\n",
       "  <thead>\n",
       "    <tr style=\"text-align: right;\">\n",
       "      <th></th>\n",
       "      <th>name</th>\n",
       "      <th>date</th>\n",
       "      <th>isOffDay</th>\n",
       "    </tr>\n",
       "  </thead>\n",
       "  <tbody>\n",
       "  </tbody>\n",
       "</table>\n",
       "</div>"
      ],
      "text/plain": [
       "Empty DataFrame\n",
       "Columns: [name, date, isOffDay]\n",
       "Index: []"
      ]
     },
     "execution_count": 5,
     "metadata": {},
     "output_type": "execute_result"
    }
   ],
   "source": [
    "holidays_df.query('date == \"%s\" and isOffDay' % '2024-09-01')"
   ]
  }
 ],
 "metadata": {
  "kernelspec": {
   "display_name": "Python 3 (ipykernel)",
   "language": "python",
   "name": "python3"
  },
  "language_info": {
   "codemirror_mode": {
    "name": "ipython",
    "version": 3
   },
   "file_extension": ".py",
   "mimetype": "text/x-python",
   "name": "python",
   "nbconvert_exporter": "python",
   "pygments_lexer": "ipython3",
   "version": "3.9.19"
  }
 },
 "nbformat": 4,
 "nbformat_minor": 5
}
